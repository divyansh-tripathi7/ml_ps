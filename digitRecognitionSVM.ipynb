{
  "nbformat": 4,
  "nbformat_minor": 0,
  "metadata": {
    "colab": {
      "name": "digitRecognitionSVM.ipynb",
      "provenance": [],
      "collapsed_sections": [],
      "authorship_tag": "ABX9TyN65N749Uwz0yghUs9ytpYX",
      "include_colab_link": true
    },
    "kernelspec": {
      "name": "python3",
      "display_name": "Python 3"
    },
    "language_info": {
      "name": "python"
    }
  },
  "cells": [
    {
      "cell_type": "markdown",
      "metadata": {
        "id": "view-in-github",
        "colab_type": "text"
      },
      "source": [
        "<a href=\"https://colab.research.google.com/github/divyansh-tripathi7/ml_ps/blob/main/digitRecognitionSVM.ipynb\" target=\"_parent\"><img src=\"https://colab.research.google.com/assets/colab-badge.svg\" alt=\"Open In Colab\"/></a>"
      ]
    },
    {
      "cell_type": "code",
      "execution_count": 1,
      "metadata": {
        "id": "dGQMwQzoYG5r"
      },
      "outputs": [],
      "source": [
        "import numpy as np\n",
        "from sklearn.datasets import load_digits"
      ]
    },
    {
      "cell_type": "code",
      "source": [
        "dataset = load_digits()"
      ],
      "metadata": {
        "id": "_novBrEwYb4S"
      },
      "execution_count": 2,
      "outputs": []
    },
    {
      "cell_type": "code",
      "source": [
        "print(dataset.data)\n",
        "print(dataset.target)\n",
        "\n",
        "print(dataset.data.shape)\n",
        "print(dataset.images.shape)\n",
        "\n",
        "dataimageLength = len(dataset.images)\n",
        "print(dataimageLength)"
      ],
      "metadata": {
        "colab": {
          "base_uri": "https://localhost:8080/"
        },
        "id": "B9ic3XkaYlxn",
        "outputId": "1d5d378d-0169-4be7-9308-219c6d2b832c"
      },
      "execution_count": 5,
      "outputs": [
        {
          "output_type": "stream",
          "name": "stdout",
          "text": [
            "[[ 0.  0.  5. ...  0.  0.  0.]\n",
            " [ 0.  0.  0. ... 10.  0.  0.]\n",
            " [ 0.  0.  0. ... 16.  9.  0.]\n",
            " ...\n",
            " [ 0.  0.  1. ...  6.  0.  0.]\n",
            " [ 0.  0.  2. ... 12.  0.  0.]\n",
            " [ 0.  0. 10. ... 12.  1.  0.]]\n",
            "[0 1 2 ... 8 9 8]\n",
            "(1797, 64)\n",
            "(1797, 8, 8)\n",
            "1797\n"
          ]
        }
      ]
    },
    {
      "cell_type": "code",
      "source": [
        "import matplotlib.pyplot as plt\n",
        "n=765\n",
        "plt.gray()\n",
        "plt.matshow(dataset.images[n])\n",
        "plt.show()\n",
        "\n",
        "dataset.images[n]"
      ],
      "metadata": {
        "colab": {
          "base_uri": "https://localhost:8080/",
          "height": 431
        },
        "id": "H6tKGJJpYydf",
        "outputId": "40c07aa4-fc29-45ea-eb4c-d1636e6530ea"
      },
      "execution_count": 9,
      "outputs": [
        {
          "output_type": "display_data",
          "data": {
            "text/plain": [
              "<Figure size 432x288 with 0 Axes>"
            ]
          },
          "metadata": {}
        },
        {
          "output_type": "display_data",
          "data": {
            "image/png": "[encoded data removed]",
            "text/plain": [
              "<Figure size 288x288 with 1 Axes>"
            ]
          },
          "metadata": {
            "needs_background": "light"
          }
        },
        {
          "output_type": "execute_result",
          "data": {
            "text/plain": [
              "array([[ 0.,  0.,  0.,  1.,  8., 13., 14.,  2.],\n",
              "       [ 0.,  0.,  2., 13.,  9.,  4., 14.,  4.],\n",
              "       [ 0.,  0., 13.,  9.,  0.,  9., 14.,  1.],\n",
              "       [ 0.,  4., 16., 14., 14., 16.,  6.,  0.],\n",
              "       [ 0.,  1., 11., 10.,  7., 14.,  0.,  0.],\n",
              "       [ 0.,  0.,  0.,  0.,  8.,  8.,  0.,  0.],\n",
              "       [ 0.,  0.,  0.,  0., 11.,  5.,  0.,  0.],\n",
              "       [ 0.,  0.,  0.,  0., 11.,  3.,  0.,  0.]])"
            ]
          },
          "metadata": {},
          "execution_count": 9
        }
      ]
    },
    {
      "cell_type": "code",
      "source": [
        "# segregate into x and y\n",
        "\n",
        "X = dataset.images.reshape((dataimageLength,-1))\n",
        "X"
      ],
      "metadata": {
        "colab": {
          "base_uri": "https://localhost:8080/"
        },
        "id": "-8dFHtH0Zh1I",
        "outputId": "92bafd2f-834a-4239-a512-8132bb590337"
      },
      "execution_count": 10,
      "outputs": [
        {
          "output_type": "execute_result",
          "data": {
            "text/plain": [
              "array([[ 0.,  0.,  5., ...,  0.,  0.,  0.],\n",
              "       [ 0.,  0.,  0., ..., 10.,  0.,  0.],\n",
              "       [ 0.,  0.,  0., ..., 16.,  9.,  0.],\n",
              "       ...,\n",
              "       [ 0.,  0.,  1., ...,  6.,  0.,  0.],\n",
              "       [ 0.,  0.,  2., ..., 12.,  0.,  0.],\n",
              "       [ 0.,  0., 10., ..., 12.,  1.,  0.]])"
            ]
          },
          "metadata": {},
          "execution_count": 10
        }
      ]
    },
    {
      "cell_type": "code",
      "source": [
        "Y = dataset.target"
      ],
      "metadata": {
        "id": "qN5X_2SgbW-n"
      },
      "execution_count": 13,
      "outputs": []
    },
    {
      "cell_type": "markdown",
      "source": [
        ""
      ],
      "metadata": {
        "id": "gnN9gGxXbVAx"
      }
    },
    {
      "cell_type": "code",
      "source": [
        "# split dataset \n",
        "from sklearn.model_selection import train_test_split\n",
        "X_train, X_test , Y_train , Y_test = train_test_split(X,Y,test_size = 0.25 , random_state =42) \n",
        "print(X_train.shape)\n",
        "print(X_test.shape)"
      ],
      "metadata": {
        "colab": {
          "base_uri": "https://localhost:8080/"
        },
        "id": "4T6n5cTMaqew",
        "outputId": "a5908e0a-e71d-48c8-f111-cfb37c4a4749"
      },
      "execution_count": 14,
      "outputs": [
        {
          "output_type": "stream",
          "name": "stdout",
          "text": [
            "(1347, 64)\n",
            "(450, 64)\n"
          ]
        }
      ]
    },
    {
      "cell_type": "markdown",
      "source": [
        ""
      ],
      "metadata": {
        "id": "-wjA4EhLapf0"
      }
    },
    {
      "cell_type": "code",
      "source": [
        "#train\n",
        "from sklearn import svm\n",
        "model = svm.SVC(kernel = 'linear')\n",
        "model.fit(X_train,Y_train)"
      ],
      "metadata": {
        "colab": {
          "base_uri": "https://localhost:8080/"
        },
        "id": "iPiJs_7IaQ6I",
        "outputId": "0bf44391-c568-4785-be65-b6a0bff9a021"
      },
      "execution_count": 15,
      "outputs": [
        {
          "output_type": "execute_result",
          "data": {
            "text/plain": [
              "SVC(kernel='linear')"
            ]
          },
          "metadata": {},
          "execution_count": 15
        }
      ]
    },
    {
      "cell_type": "code",
      "source": [
        "# prediction\n",
        "n = 864\n",
        "result = model.predict(dataset.images[n].reshape((1,-1)))\n",
        "plt.imshow(dataset.images[n], cmap =plt.cm.gray_r, interpolation ='nearest')\n",
        "print(result)\n",
        "print(\"\\n\")\n",
        "plt.axis('off')\n",
        "plt.title('%i'%result)\n",
        "plt.show()"
      ],
      "metadata": {
        "colab": {
          "base_uri": "https://localhost:8080/",
          "height": 316
        },
        "id": "P7zkRPVcaj-V",
        "outputId": "39cb5e0e-bab9-48f2-900a-60f325853e06"
      },
      "execution_count": 18,
      "outputs": [
        {
          "output_type": "stream",
          "name": "stdout",
          "text": [
            "[6]\n",
            "\n",
            "\n"
          ]
        },
        {
          "output_type": "display_data",
          "data": {
            "image/png": "[encoded data removed]",
            "text/plain": [
              "<Figure size 432x288 with 1 Axes>"
            ]
          },
          "metadata": {
            "needs_background": "light"
          }
        }
      ]
    },
    {
      "cell_type": "code",
      "source": [
        "Y_pred = model.predict(X_test)"
      ],
      "metadata": {
        "id": "0tqwns8DdE5Q"
      },
      "execution_count": 21,
      "outputs": []
    },
    {
      "cell_type": "code",
      "source": [
        "# accuracy \n",
        "from sklearn.metrics import accuracy_score\n",
        "print(\"accuracy of the model is  {0}%\".format(accuracy_score(Y_test, Y_pred)*100))"
      ],
      "metadata": {
        "colab": {
          "base_uri": "https://localhost:8080/"
        },
        "id": "opded37ocbEo",
        "outputId": "ba360bf2-5250-498a-ae9c-0f5860aa6129"
      },
      "execution_count": 22,
      "outputs": [
        {
          "output_type": "stream",
          "name": "stdout",
          "text": [
            "accuracy of the model is  98.22222222222223%\n"
          ]
        }
      ]
    },
    {
      "cell_type": "code",
      "source": [
        ""
      ],
      "metadata": {
        "id": "zipijbUbc6Jk"
      },
      "execution_count": null,
      "outputs": []
    }
  ]
}